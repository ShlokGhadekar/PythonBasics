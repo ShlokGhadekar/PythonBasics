{
  "nbformat": 4,
  "nbformat_minor": 0,
  "metadata": {
    "colab": {
      "provenance": [],
      "authorship_tag": "ABX9TyPzzZFhpOIxVrnFz4YDU0nA",
      "include_colab_link": true
    },
    "kernelspec": {
      "name": "python3",
      "display_name": "Python 3"
    },
    "language_info": {
      "name": "python"
    }
  },
  "cells": [
    {
      "cell_type": "markdown",
      "metadata": {
        "id": "view-in-github",
        "colab_type": "text"
      },
      "source": [
        "<a href=\"https://colab.research.google.com/github/ShlokGhadekar/PythonBasics/blob/main/Numpy.ipynb\" target=\"_parent\"><img src=\"https://colab.research.google.com/assets/colab-badge.svg\" alt=\"Open In Colab\"/></a>"
      ]
    },
    {
      "cell_type": "markdown",
      "source": [
        "NumPy (Numerical Python) is a powerful Python library for numerical computing, widely used for handling arrays, performing mathematical operations, and working with scientific data."
      ],
      "metadata": {
        "id": "cCAUkPgMx0U1"
      }
    },
    {
      "cell_type": "code",
      "execution_count": 1,
      "metadata": {
        "id": "70SSp1h-xnHx"
      },
      "outputs": [],
      "source": [
        "import numpy as np"
      ]
    },
    {
      "cell_type": "code",
      "source": [
        "arr1=np.array([1,2,3,4,5]) #1d array\n",
        "print(\"1D array\",arr1)\n",
        "arr2=np.array([[1,2,3],[4,5,6]]) #2d array\n",
        "print(\"2D array\",arr2)\n",
        "arr3=np.array([[[1,2],[3,4]],[[5,6,],[7,8]]]) #3d array(tensor)\n",
        "print(\"3D array\",arr3)\n",
        "\n",
        "print(\"Array shape: \",arr2.shape)\n",
        "print(\"Array size: \",arr2.size)\n",
        "print(\"data type: \",arr2.dtype)\n",
        "print(\"No of dimensions: \",arr2.ndim)"
      ],
      "metadata": {
        "colab": {
          "base_uri": "https://localhost:8080/"
        },
        "id": "MoohSwblx3DG",
        "outputId": "ba83c152-ee6d-492e-eb3d-11e218b4b288"
      },
      "execution_count": 5,
      "outputs": [
        {
          "output_type": "stream",
          "name": "stdout",
          "text": [
            "1D array [1 2 3 4 5]\n",
            "2D array [[1 2 3]\n",
            " [4 5 6]]\n",
            "3D array [[[1 2]\n",
            "  [3 4]]\n",
            "\n",
            " [[5 6]\n",
            "  [7 8]]]\n",
            "Array shape:  (2, 3)\n",
            "Array size:  6\n",
            "data type:  int64\n",
            "No of dimensions:  2\n"
          ]
        }
      ]
    },
    {
      "cell_type": "code",
      "source": [
        "np.zeros((3, 3))          # 3x3 matrix of zeros\n",
        "np.ones((2, 2))           # 2x2 matrix of ones\n",
        "np.eye(3)                 # 3x3 identity matrix\n",
        "np.random.rand(3, 3)      # Random numbers between 0 and 1\n",
        "np.random.randint(1, 10, (2, 2))  # Random integers"
      ],
      "metadata": {
        "colab": {
          "base_uri": "https://localhost:8080/"
        },
        "id": "JY3NY4-szZRO",
        "outputId": "54a34dca-ae7c-40c1-93a6-4003df87c925"
      },
      "execution_count": 6,
      "outputs": [
        {
          "output_type": "execute_result",
          "data": {
            "text/plain": [
              "array([[9, 2],\n",
              "       [4, 4]])"
            ]
          },
          "metadata": {},
          "execution_count": 6
        }
      ]
    },
    {
      "cell_type": "code",
      "source": [
        "arr = np.array([[10, 20, 30], [40, 50, 60]])\n",
        "\n",
        "print(arr[0, 1])   # Access single element (20)\n",
        "print(arr[:, 1])   # Get entire 2nd column\n",
        "print(arr[1, :])   # Get entire 2nd row\n",
        "print(arr[0:2, 1:3])  # Slicing"
      ],
      "metadata": {
        "colab": {
          "base_uri": "https://localhost:8080/"
        },
        "id": "SRTBKopnzoUE",
        "outputId": "3dbb8874-4546-4a27-86ca-8bfaa1e85c6e"
      },
      "execution_count": 7,
      "outputs": [
        {
          "output_type": "stream",
          "name": "stdout",
          "text": [
            "20\n",
            "[20 50]\n",
            "[40 50 60]\n",
            "[[20 30]\n",
            " [50 60]]\n"
          ]
        }
      ]
    },
    {
      "cell_type": "code",
      "source": [
        "a = np.array([1, 2, 3])\n",
        "b = np.array([4, 5, 6])\n",
        "\n",
        "print(a + b)  # [5 7 9]\n",
        "print(a * b)  # [4 10 18]\n",
        "print(np.dot(a, b))  # Dot product: 1*4 + 2*5 + 3*6 = 32\n",
        "print(np.mean(a))  # Mean\n",
        "print(np.sum(a))   # Sum\n",
        "print(np.max(a))   # Max"
      ],
      "metadata": {
        "colab": {
          "base_uri": "https://localhost:8080/"
        },
        "id": "vl9z2SfOz31y",
        "outputId": "3a9c275f-b29f-491b-c83d-6d75ae735cea"
      },
      "execution_count": 8,
      "outputs": [
        {
          "output_type": "stream",
          "name": "stdout",
          "text": [
            "[5 7 9]\n",
            "[ 4 10 18]\n",
            "32\n",
            "2.0\n",
            "6\n",
            "3\n"
          ]
        }
      ]
    },
    {
      "cell_type": "code",
      "source": [
        "arr = np.array([1, 2, 3, 4, 5, 6])\n",
        "arr_reshaped = arr.reshape((2, 3))\n",
        "print(arr_reshaped)\n",
        "\n",
        "a = np.array([[1, 2], [3, 4]])\n",
        "b = np.array([[5, 6]])\n",
        "\n",
        "print(np.vstack((a, b)))  # Vertical stack\n",
        "print(np.hstack((a, b.T)))  # Horizontal stack"
      ],
      "metadata": {
        "colab": {
          "base_uri": "https://localhost:8080/"
        },
        "id": "d19yYa2P0BgU",
        "outputId": "9b8bdef9-6021-4709-888e-07fc09cccee5"
      },
      "execution_count": 10,
      "outputs": [
        {
          "output_type": "stream",
          "name": "stdout",
          "text": [
            "[[1 2 3]\n",
            " [4 5 6]]\n",
            "[[1 2]\n",
            " [3 4]\n",
            " [5 6]]\n",
            "[[1 2 5]\n",
            " [3 4 6]]\n"
          ]
        }
      ]
    },
    {
      "cell_type": "code",
      "source": [
        "np.linspace(1, 10, 5)  # Create 5 equally spaced numbers from 1 to 10\n",
        "np.argmax(arr)         # Index of the max value\n",
        "np.argmin(arr)         # Index of the min value\n",
        "np.sort(arr)           # Sort array\n",
        "np.unique(arr)         # Get unique values"
      ],
      "metadata": {
        "colab": {
          "base_uri": "https://localhost:8080/"
        },
        "id": "Kr_mcjo00KR-",
        "outputId": "2e57639b-5c94-4dcd-df3f-b3e3c5df7d56"
      },
      "execution_count": 11,
      "outputs": [
        {
          "output_type": "execute_result",
          "data": {
            "text/plain": [
              "array([1, 2, 3, 4, 5, 6])"
            ]
          },
          "metadata": {},
          "execution_count": 11
        }
      ]
    },
    {
      "cell_type": "code",
      "source": [
        "A = np.array([[1, 2], [3, 4]])\n",
        "B = np.array([10, 20])  # B has shape (2,)\n",
        "\n",
        "print(A + B)\n",
        "\n",
        "arr=np.array([1,2,3,4,5,6])\n",
        "print(arr[arr>3])\n",
        "\n",
        "X=np.array([[10,20,30],[40,50,60],[70,80,90]])\n",
        "rows=np.array([0,2])\n",
        "cols=np.array([1,2])\n",
        "\n",
        "print(X[rows,cols])"
      ],
      "metadata": {
        "colab": {
          "base_uri": "https://localhost:8080/"
        },
        "id": "qsUQQqeZ0Yqz",
        "outputId": "2f8b6ffc-0d34-41f7-9696-ede5abff4a89"
      },
      "execution_count": 15,
      "outputs": [
        {
          "output_type": "stream",
          "name": "stdout",
          "text": [
            "[[11 22]\n",
            " [13 24]]\n",
            "[4 5 6]\n",
            "[20 90]\n"
          ]
        }
      ]
    },
    {
      "cell_type": "code",
      "source": [
        "arr = np.array([1, 2, 3, 4, 5])\n",
        "\n",
        "# Min-Max Normalization (scales data between 0 and 1)\n",
        "norm_arr = (arr - arr.min()) / (arr.max() - arr.min())\n",
        "\n",
        "# Z-score Normalization (Mean = 0, Std = 1)\n",
        "std_arr = (arr - arr.mean()) / arr.std()"
      ],
      "metadata": {
        "id": "FZp_nstN1UmU"
      },
      "execution_count": 20,
      "outputs": []
    },
    {
      "cell_type": "code",
      "source": [
        "#Random data generation\n",
        "np.random.seed(42)  # Ensures reproducibility\n",
        "rand_data = np.random.rand(5, 5)  # 5x5 matrix with random values between 0 and 1"
      ],
      "metadata": {
        "id": "_CEpvV-K2BwD"
      },
      "execution_count": 21,
      "outputs": []
    },
    {
      "cell_type": "code",
      "source": [
        "mean, std_dev = 0, 1\n",
        "normal_data = np.random.normal(mean, std_dev, (3, 3))  # 3x3 matrix from Normal distribution"
      ],
      "metadata": {
        "id": "Ybuw00x42H6B"
      },
      "execution_count": 22,
      "outputs": []
    }
  ]
}